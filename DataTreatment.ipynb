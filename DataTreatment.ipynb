{
 "cells": [
  {
   "cell_type": "code",
   "execution_count": null,
   "id": "4ae9efa6-4f95-4225-986d-45e0421aad36",
   "metadata": {},
   "outputs": [],
   "source": [
    "!pip install tensorflow opencv-python albumentations "
   ]
  },
  {
   "cell_type": "code",
   "execution_count": null,
   "id": "dee56ea4-0d20-43b7-b6b0-82163c8f154b",
   "metadata": {},
   "outputs": [],
   "source": [
    "# This process will capture some photos from your webcam\n",
    "\n",
    "import os\n",
    "import time\n",
    "import uuid\n",
    "import cv2\n",
    "\n",
    "# If not exists create folder /data/....\n",
    "images_destination_path = os.path.join('data','captured_images') \n",
    "labels_destination_path = os.path.join('data','captured_labels')\n",
    "images_number = 30\n",
    "\n",
    "cap = cv2.VideoCapture(0) # Define your cam index\n",
    "for imgnum in range(images_number):\n",
    "    ret, frame = cap.read()\n",
    "    image_name = os.path.join(images_destination_path  , f'{str(uuid.uuid1())}.jpg') # Generate a UUID1 as image name\n",
    "    \n",
    "    cv2.imwrite(image_name, frame)\n",
    "    cv2.imshow('frame', frame)\n",
    "\n",
    "    time.sleep(0.5) # Time per photo\n",
    "    if cv2.waitKey(1) & 0xFF == ord('q'):\n",
    "        break\n",
    "\n",
    "cap.release()\n",
    "cv2.destroyAllWindows()"
   ]
  },
  {
   "cell_type": "code",
   "execution_count": null,
   "id": "1311adae-64ad-48e5-a9b1-19f19553fc02",
   "metadata": {},
   "outputs": [],
   "source": [
    "# Now open app LabelMe and add each label to captured_labels for each captured_images\n",
    "# https://github.com/labelmeai/labelme"
   ]
  },
  {
   "cell_type": "code",
   "execution_count": null,
   "id": "86126099-8260-4558-9e11-ce011b5542d8",
   "metadata": {},
   "outputs": [],
   "source": [
    "import random\n",
    "import shutil\n",
    "\n",
    "image_extensions = ['.jpg'] # Define a list of image extensions like'.jpeg', '.png', '.bmp'\n",
    "\n",
    "# Create a list of image filenames in 'DATA'\n",
    "imgs_list = [filename for filename in os.listdir(images_destination_path) if os.path.splitext(filename)[-1] in image_extensions]"
   ]
  },
  {
   "cell_type": "code",
   "execution_count": null,
   "id": "243ba156-792d-4bab-a54b-56f6ad33b7f1",
   "metadata": {},
   "outputs": [],
   "source": [
    "len(imgs_list) # Check images list size"
   ]
  },
  {
   "cell_type": "code",
   "execution_count": null,
   "id": "5fcb2366-d74c-487e-8030-c6e189c9f1d3",
   "metadata": {},
   "outputs": [],
   "source": [
    "# Separate data into 3 parts (Train, Validation, Test)\n",
    "random.seed(42) # Sets the random seed \n",
    "random.shuffle(imgs_list) # Shuffle the list of image filenames\n",
    "\n",
    "# Determine number of images for each part 70% - 15% - 15%\n",
    "train_size = int(len(imgs_list) * 0.70)\n",
    "val_size = int(len(imgs_list) * 0.15)\n",
    "test_size = int(len(imgs_list) * 0.15)"
   ]
  },
  {
   "cell_type": "code",
   "execution_count": null,
   "id": "a23a48bb-9745-4f0c-b45c-f872867603f7",
   "metadata": {},
   "outputs": [],
   "source": [
    "DATA = \"data\"\n",
    "TRAIN = \"train\"\n",
    "VAL = \"val\"\n",
    "TEST = \"test\"\n",
    "IMAGES = \"images\"\n",
    "LABELS = \"labels\"\n",
    "\n",
    "# DATA Destination folders\n",
    "train_images_folder = os.path.join(DATA, TRAIN, IMAGES)\n",
    "val_images_folder = os.path.join(DATA, VAL, IMAGES)\n",
    "test_images_folder = os.path.join(DATA, TEST, IMAGES)\n",
    "\n",
    "train_labels_folder = os.path.join(DATA, TRAIN, LABELS)\n",
    "val_labels_folder = os.path.join(DATA, VAL, LABELS)\n",
    "test_labels_folder = os.path.join(DATA, TEST, LABELS)\n",
    "\n",
    "# Create destination folders if they don't exist (Train, Validation, Test)\n",
    "for folder_path in [train_images_folder, val_images_folder, test_images_folder, train_labels_folder, val_labels_folder, test_labels_folder]:\n",
    "    if not os.path.exists(folder_path):\n",
    "        os.makedirs(folder_path)"
   ]
  },
  {
   "cell_type": "code",
   "execution_count": null,
   "id": "bdb0bdf2-d706-43b0-b712-50d1f5867cb9",
   "metadata": {},
   "outputs": [],
   "source": [
    "# Copy images to destination folders\n",
    "for i, f in enumerate(imgs_list):\n",
    "    if i < train_size:\n",
    "        dest_folder = train_images_folder\n",
    "    elif i < train_size + val_size:\n",
    "        dest_folder = val_images_folder\n",
    "    else:\n",
    "        dest_folder = test_images_folder\n",
    "    shutil.copy(os.path.join(images_destination_path, f), os.path.join(dest_folder, f))"
   ]
  },
  {
   "cell_type": "code",
   "execution_count": null,
   "id": "02d68264-c450-4cc5-8f9e-e3c388f1e85b",
   "metadata": {},
   "outputs": [],
   "source": [
    "# Load each label for correct place folder\n",
    "for folder in [TRAIN,TEST,VAL]:\n",
    "    for file in os.listdir(os.path.join(DATA, folder, IMAGES)):\n",
    "        filename = file.split('.')[0]+'.json'\n",
    "        \n",
    "        found_label = os.path.join(labels_destination_path, filename)\n",
    "        if (os.path.exists(found_label)):\n",
    "            new_label_path = os.path.join(DATA, folder, LABELS, filename)\n",
    "            os.replace(found_label, new_label_path)"
   ]
  },
  {
   "cell_type": "code",
   "execution_count": null,
   "id": "e2bbf95d-2c50-431f-962c-3c971c62186c",
   "metadata": {},
   "outputs": [],
   "source": [
    "# This albumentations library create new images, changing randomly some pixels, to improve data accuracy\n",
    "# For more albumentation types -> https://demo.albumentations.ai/ \n",
    "import albumentations as alb \n",
    "\n",
    "augmentor = alb.Compose([\n",
    "    alb.RandomCrop(width=450, height=450),\n",
    "    alb.HorizontalFlip(p=0.5),\n",
    "    alb.RandomBrightnessContrast(p=0.2),\n",
    "    alb.RandomGamma(p=0.2),\n",
    "    alb.VerticalFlip(p=0.5)\n",
    "], bbox_params=alb.BboxParams(format='albumentations', label_fields=['class_labels']))"
   ]
  },
  {
   "cell_type": "code",
   "execution_count": null,
   "id": "c61647d5-d9ce-4a93-8b36-be7531b09036",
   "metadata": {},
   "outputs": [],
   "source": [
    "# Create new folder to AUG_DATA -> This folder will containg albumentations images and labels\n",
    "\n",
    "AUG_DATA = \"aug_data\" # Aug -> Augmentation\n",
    "\n",
    "# AUG Destination folders\n",
    "aug_train_images_folder = os.path.join(AUG_DATA, TRAIN, IMAGES)\n",
    "aug_val_images_folder = os.path.join(AUG_DATA, VAL, IMAGES)\n",
    "aug_test_images_folder = os.path.join(AUG_DATA, TEST, IMAGES)\n",
    "\n",
    "aug_train_labels_folder = os.path.join(AUG_DATA, TRAIN, LABELS)\n",
    "aug_val_labels_folder = os.path.join(AUG_DATA, VAL, LABELS)\n",
    "aug_test_labels_folder = os.path.join(AUG_DATA, TEST, LABELS)\n",
    "\n",
    "# Create AUG destination folders if they don't exist (Train, Validation, Test)\n",
    "for folder_path in [aug_train_images_folder, aug_val_images_folder, aug_test_images_folder, aug_train_labels_folder, aug_val_labels_folder, aug_test_labels_folder]:\n",
    "    if not os.path.exists(folder_path):\n",
    "        os.makedirs(folder_path)"
   ]
  },
  {
   "cell_type": "code",
   "execution_count": null,
   "id": "d804e798-885d-4309-ac73-982d5275a2e6",
   "metadata": {
    "scrolled": true
   },
   "outputs": [],
   "source": [
    "import tensorflow as tf\n",
    "import json\n",
    "import numpy as np\n",
    "from matplotlib import pyplot as plt\n",
    "\n",
    "# Running algumentation in a pipeline to all images to generate X images to each image\n",
    "for partition in [TRAIN, TEST, VAL]: \n",
    "    for image in os.listdir(os.path.join(DATA, partition, IMAGES)):\n",
    "        img = cv2.imread(os.path.join(DATA, partition, IMAGES, image))\n",
    "\n",
    "        coords = [0,0,0.00001,0.00001]\n",
    "        label_path = os.path.join(DATA, partition, 'labels', f'{image.split(\".\")[0]}.json')\n",
    "        try: \n",
    "            if os.path.exists(label_path):\n",
    "                with open(label_path, 'r') as f:\n",
    "                    label = json.load(f)\n",
    "                coords[0] = label['shapes'][0]['points'][0][0]\n",
    "                coords[1] = label['shapes'][0]['points'][0][1]\n",
    "                coords[2] = label['shapes'][0]['points'][1][0]\n",
    "                coords[3] = label['shapes'][0]['points'][1][1]\n",
    "                coords = list(np.divide(coords, [640,480,640,480])) # Define images Width/Height\n",
    "        except Exception as e:\n",
    "            print(e)\n",
    "\n",
    "        try: \n",
    "            for x in range(30): # Number of algumentation images per image \n",
    "                augmented = augmentor(image=img, bboxes=[coords], class_labels=['face'])\n",
    "                cv2.imwrite(os.path.join(AUG_DATA, partition, IMAGES, f'{image.split(\".\")[0]}.{x}.jpg'), augmented['image'])\n",
    "\n",
    "                annotation = {}\n",
    "                annotation['image'] = image\n",
    "\n",
    "                if os.path.exists(label_path):\n",
    "                    if len(augmented['bboxes']) == 0: # If doesnt exists label, set bbox to ZEROS\n",
    "                        annotation['bbox'] = [0,0,0,0]\n",
    "                        annotation['class'] = 0 \n",
    "                    else: \n",
    "                        annotation['bbox'] = augmented['bboxes'][0]\n",
    "                        annotation['class'] = 1\n",
    "                else: \n",
    "                    annotation['bbox'] = [0,0,0,0]\n",
    "                    annotation['class'] = 0 \n",
    "\n",
    "\n",
    "                with open(os.path.join(AUG_DATA, partition, 'labels', f'{image.split(\".\")[0]}.{x}.json'), 'w') as f:\n",
    "                    json.dump(annotation, f)\n",
    "\n",
    "        except Exception as e:\n",
    "            print(e)"
   ]
  },
  {
   "cell_type": "code",
   "execution_count": null,
   "id": "8e6e86c6-d2f4-4a8b-ae9a-c70617bdb146",
   "metadata": {},
   "outputs": [],
   "source": []
  }
 ],
 "metadata": {
  "kernelspec": {
   "display_name": "Python 3 (ipykernel)",
   "language": "python",
   "name": "python3"
  },
  "language_info": {
   "codemirror_mode": {
    "name": "ipython",
    "version": 3
   },
   "file_extension": ".py",
   "mimetype": "text/x-python",
   "name": "python",
   "nbconvert_exporter": "python",
   "pygments_lexer": "ipython3",
   "version": "3.11.5"
  }
 },
 "nbformat": 4,
 "nbformat_minor": 5
}
